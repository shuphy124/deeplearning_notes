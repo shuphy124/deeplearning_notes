{
  "nbformat": 4,
  "nbformat_minor": 0,
  "metadata": {
    "colab": {
      "name": "3-1-trans.ipynb",
      "provenance": [],
      "authorship_tag": "ABX9TyM8+OvXEdwgfx5bC+hQsJat",
      "include_colab_link": true
    },
    "kernelspec": {
      "name": "python3",
      "display_name": "Python 3"
    },
    "language_info": {
      "name": "python"
    }
  },
  "cells": [
    {
      "cell_type": "markdown",
      "metadata": {
        "id": "view-in-github",
        "colab_type": "text"
      },
      "source": [
        "<a href=\"https://colab.research.google.com/github/shuphy124/deeplearning_notes/blob/master/section3/3-1-trans.ipynb\" target=\"_parent\"><img src=\"https://colab.research.google.com/assets/colab-badge.svg\" alt=\"Open In Colab\"/></a>"
      ]
    },
    {
      "cell_type": "code",
      "execution_count": null,
      "metadata": {
        "id": "Wa0ACJbl9wz9"
      },
      "outputs": [],
      "source": [
        ""
      ]
    }
  ]
}