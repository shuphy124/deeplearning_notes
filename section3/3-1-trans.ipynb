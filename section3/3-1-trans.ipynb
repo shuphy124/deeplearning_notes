{
  "nbformat": 4,
  "nbformat_minor": 0,
  "metadata": {
    "colab": {
      "name": "Copy of 3-1-trans.ipynb",
      "provenance": [],
      "collapsed_sections": [],
      "authorship_tag": "ABX9TyMXaMLdNxnPHiJZlne6qSnz",
      "include_colab_link": true
    },
    "kernelspec": {
      "name": "python3",
      "display_name": "Python 3"
    },
    "language_info": {
      "name": "python"
    }
  },
  "cells": [
    {
      "cell_type": "markdown",
      "metadata": {
        "id": "view-in-github",
        "colab_type": "text"
      },
      "source": [
        "<a href=\"https://colab.research.google.com/github/shuphy124/deeplearning_notes/blob/master/section3/3-1-trans.ipynb\" target=\"_parent\"><img src=\"https://colab.research.google.com/assets/colab-badge.svg\" alt=\"Open In Colab\"/></a>"
      ]
    },
    {
      "cell_type": "code",
      "execution_count": null,
      "metadata": {
        "id": "Wa0ACJbl9wz9"
      },
      "outputs": [],
      "source": [
        "import numpy as np\n",
        "import matplotlib.pyplot as plt\n",
        "import tensorflow as tf\n",
        "from sklearn.datasets import load_iris"
      ]
    },
    {
      "cell_type": "markdown",
      "source": [
        "## 3-1. 本章节的目标\n",
        "本节我们导入有监督的神经网络，即$q_\\theta(y|{\\bfx})$的模型。 首先，什么是神经网络？\n",
        "\n",
        "考虑函数\n",
        "$$\n",
        "{\\bf x} \n",
        "\\overset{\\text{linear}}{\\to}\n",
        "\\cdot\n",
        "\\overset{\\text{non-linear}}{\\to}\n",
        "{\\bf h}_1\n",
        "\\overset{\\text{linear}}{\\to}\n",
        "\\cdot\n",
        "\\overset{\\text{non-linear}}{\\to}\n",
        "{\\bf h}_2\n",
        "\\to \\dots\n",
        "\\to\n",
        "{\\bf h}_L，\n",
        "$$\n",
        "通常我们**固定非线性变换**并**更改线性变换的参数**，以使输出期望的数值${\\bf h}_L$。 下面，我们使用 [TensorFlow](https://www.tensorflow.org)，利用简单的神经网络配置来分类之前的Ayame 数据。之后，在接下来的小节中，我们解释中的每个部分的细节。"
      ],
      "metadata": {
        "id": "KpxNcJAE-Hk0"
      }
    },
    {
      "cell_type": "markdown",
      "source": [
        "### 使用Ayame数据的有监督神经网\n",
        "下边我们读取Ayame数据"
      ],
      "metadata": {
        "id": "DCZGofnVD_tB"
      }
    },
    {
      "cell_type": "code",
      "source": [
        "iris = load_iris() # 读取Ayame数据"
      ],
      "metadata": {
        "id": "2JIpoI16Eo3Z"
      },
      "execution_count": null,
      "outputs": []
    },
    {
      "cell_type": "markdown",
      "source": [
        "该对象包含各种数据。 尤其是本次将利用\n",
        "- `iris.data`: 输入 ${\\bf x}_n$ 数据\n",
        "- `iris.target`: 期望的答案 ${\\bf y}_n$ 数据\n",
        "将 间隔为2的偶数index作为训练数据："
      ],
      "metadata": {
        "id": "DRLj12qKFYBh"
      }
    },
    {
      "cell_type": "code",
      "source": [
        "X_train, Y_train = iris.data[::2], iris.target[::2] # 偶数数据"
      ],
      "metadata": {
        "id": "t5wvpY1J-Gd-"
      },
      "execution_count": null,
      "outputs": []
    },
    {
      "cell_type": "markdown",
      "source": [
        "#### 神经网络\n",
        "神经网络被实现为一个类。 以下设计\n",
        "\n",
        "$$\n",
        "{\\ bf x} (4D) \\to {\\ bf h}_1 (10D) \\to {\\ bf h}_2 (3D).\n",
        "$$\n",
        "\n"
      ],
      "metadata": {
        "id": "9Wxxr0yVIU1Z"
      }
    },
    {
      "cell_type": "code",
      "source": [
        "H=10\n",
        "model = tf.keras.models.Sequential([\n",
        "  tf.keras.layers.Dense(H, input_shape=(4,), activation='relu'),\n",
        "  tf.keras.layers.Dense(3, activation='softmax')\n",
        "])"
      ],
      "metadata": {
        "id": "wFEPsSD5IUe3"
      },
      "execution_count": null,
      "outputs": []
    },
    {
      "cell_type": "markdown",
      "source": [
        "这里，`activation ='softmax'` 指定了所谓的 softmax 函数\n",
        "\n",
        "$$\n",
        "\\text{softmax}({\\bf u}) = \\frac{1}{\\sum_{i} e^{u^i}} (e^{u^1}, e^{u^2}, \\dots, e^{u^{dim}}).\n",
        "$$\n",
        " 此外，`activation ='relu'` 是\n",
        "$$\n",
        "\\text{relu}({\\bf u}) = (\\max\\{0, u^1\\}, \\max\\{0, u^2\\}, \\dots, \\max\\{0, u^{dim}.\\})\n",
        "$$\n"
      ],
      "metadata": {
        "id": "lPnphqzVJSIS"
      }
    },
    {
      "cell_type": "code",
      "source": [
        ""
      ],
      "metadata": {
        "id": "tuKR6SUXIUZ4"
      },
      "execution_count": null,
      "outputs": []
    }
  ]
}