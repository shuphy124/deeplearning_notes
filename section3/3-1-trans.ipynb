{
  "nbformat": 4,
  "nbformat_minor": 0,
  "metadata": {
    "colab": {
      "name": "3-1-trans.ipynb",
      "provenance": [],
      "collapsed_sections": [],
      "authorship_tag": "ABX9TyNQK3MQyjDzy+7WLJDRVJio",
      "include_colab_link": true
    },
    "kernelspec": {
      "name": "python3",
      "display_name": "Python 3"
    },
    "language_info": {
      "name": "python"
    }
  },
  "cells": [
    {
      "cell_type": "markdown",
      "metadata": {
        "id": "view-in-github",
        "colab_type": "text"
      },
      "source": [
        "<a href=\"https://colab.research.google.com/github/shuphy124/deeplearning_notes/blob/master/section3/3-1-trans.ipynb\" target=\"_parent\"><img src=\"https://colab.research.google.com/assets/colab-badge.svg\" alt=\"Open In Colab\"/></a>"
      ]
    },
    {
      "cell_type": "code",
      "execution_count": 2,
      "metadata": {
        "id": "Wa0ACJbl9wz9"
      },
      "outputs": [],
      "source": [
        "import numpy as np\n",
        "import matplotlib.pyplot as plt\n",
        "import tensorflow as tf\n",
        "from sklearn.datasets import load_iris"
      ]
    },
    {
      "cell_type": "markdown",
      "source": [
        "## 3-1. 本章节的目标\n",
        "本节我们导入有监督的神经网络，即$q_\\theta(y|{\\bfx})$的模型。 首先，什么是神经网络？\n",
        "\n",
        "考虑函数\n",
        "$$\n",
        "{\\bf x} \n",
        "\\overset{\\text{linear}}{\\to}\n",
        "\\cdot\n",
        "\\overset{\\text{non-linear}}{\\to}\n",
        "{\\bf h}_1\n",
        "\\overset{\\text{linear}}{\\to}\n",
        "\\cdot\n",
        "\\overset{\\text{non-linear}}{\\to}\n",
        "{\\bf h}_2\n",
        "\\to \\dots\n",
        "\\to\n",
        "{\\bf h}_L，\n",
        "$$\n",
        "通常我们**固定非线性变换**并**更改线性变换的参数**，以使输出期望的数值${\\bf h}_L$。 下面，我们使用 [TensorFlow](https://www.tensorflow.org)，利用简单的神经网络配置来分类之前的Ayame 数据。之后，在接下来的小节中，我们解释中的每个部分的细节。"
      ],
      "metadata": {
        "id": "KpxNcJAE-Hk0"
      }
    },
    {
      "cell_type": "markdown",
      "source": [
        "### 使用Ayame数据的有监督神经网\n",
        "下边我们读取Ayame数据"
      ],
      "metadata": {
        "id": "DCZGofnVD_tB"
      }
    },
    {
      "cell_type": "code",
      "source": [
        "iris = load_iris() # 读取Ayame数据"
      ],
      "metadata": {
        "id": "2JIpoI16Eo3Z"
      },
      "execution_count": 3,
      "outputs": []
    },
    {
      "cell_type": "markdown",
      "source": [
        "该对象包含各种数据。 尤其是本次将利用\n",
        "- `iris.data`: 输入 ${\\bf x}_n$ 数据\n",
        "- `iris.target`: 期望的答案 ${\\bf y}_n$ 数据\n",
        "将 间隔为2的偶数index作为训练数据："
      ],
      "metadata": {
        "id": "DRLj12qKFYBh"
      }
    },
    {
      "cell_type": "code",
      "source": [
        ""
      ],
      "metadata": {
        "id": "t5wvpY1J-Gd-"
      },
      "execution_count": null,
      "outputs": []
    }
  ]
}