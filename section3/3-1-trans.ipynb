{
  "nbformat": 4,
  "nbformat_minor": 0,
  "metadata": {
    "colab": {
      "name": "3-1-trans.ipynb",
      "provenance": [],
      "collapsed_sections": [],
      "authorship_tag": "ABX9TyP2ho5qhgg3l8741b78k0kS",
      "include_colab_link": true
    },
    "kernelspec": {
      "name": "python3",
      "display_name": "Python 3"
    },
    "language_info": {
      "name": "python"
    }
  },
  "cells": [
    {
      "cell_type": "markdown",
      "metadata": {
        "id": "view-in-github",
        "colab_type": "text"
      },
      "source": [
        "<a href=\"https://colab.research.google.com/github/shuphy124/deeplearning_notes/blob/master/section3/3-1-trans.ipynb\" target=\"_parent\"><img src=\"https://colab.research.google.com/assets/colab-badge.svg\" alt=\"Open In Colab\"/></a>"
      ]
    },
    {
      "cell_type": "code",
      "execution_count": 14,
      "metadata": {
        "id": "Wa0ACJbl9wz9"
      },
      "outputs": [],
      "source": [
        "import numpy as np\n",
        "import matplotlib.pyplot as plt\n",
        "import tensorflow as tf\n",
        "from sklearn.datasets import load_iris"
      ]
    },
    {
      "cell_type": "markdown",
      "source": [
        "## 3-1. 本章节的目标\n",
        "本节我们导入有监督的神经网络，即$q_\\theta(y|{\\bf x})$的模型。 首先，什么是神经网络？\n",
        "\n",
        "考虑函数\n",
        "$$\n",
        "{\\bf x} \n",
        "\\overset{\\text{linear}}{\\to}\n",
        "\\cdot\n",
        "\\overset{\\text{non-linear}}{\\to}\n",
        "{\\bf h}_1\n",
        "\\overset{\\text{linear}}{\\to}\n",
        "\\cdot\n",
        "\\overset{\\text{non-linear}}{\\to}\n",
        "{\\bf h}_2\n",
        "\\to \\dots\n",
        "\\to\n",
        "{\\bf h}_L，\n",
        "$$\n",
        "通常我们**固定非线性变换**并**更改线性变换的参数**，以使输出期望的数值${\\bf h}_L$。 下面，我们使用 [TensorFlow](https://www.tensorflow.org)，利用简单的神经网络配置来分类之前的Ayame 数据。之后，在接下来的小节中，我们解释中的每个部分的细节。"
      ],
      "metadata": {
        "id": "KpxNcJAE-Hk0"
      }
    },
    {
      "cell_type": "markdown",
      "source": [
        "### 使用Ayame数据的有监督神经网\n",
        "下边我们读取Ayame数据"
      ],
      "metadata": {
        "id": "DCZGofnVD_tB"
      }
    },
    {
      "cell_type": "code",
      "source": [
        "iris = load_iris() # 读取Ayame数据"
      ],
      "metadata": {
        "id": "2JIpoI16Eo3Z"
      },
      "execution_count": 15,
      "outputs": []
    },
    {
      "cell_type": "markdown",
      "source": [
        "该对象包含各种数据。 尤其是本次将利用\n",
        "- `iris.data`: 输入 ${\\bf x}_n$ 数据\n",
        "- `iris.target`: 期望的答案 ${\\bf y}_n$ 数据\n",
        "将 间隔为2的偶数index作为训练数据："
      ],
      "metadata": {
        "id": "DRLj12qKFYBh"
      }
    },
    {
      "cell_type": "code",
      "source": [
        "X_train, Y_train = iris.data[::2], iris.target[::2] # 偶数数据"
      ],
      "metadata": {
        "id": "t5wvpY1J-Gd-"
      },
      "execution_count": 16,
      "outputs": []
    },
    {
      "cell_type": "markdown",
      "source": [
        "#### 神经网络\n",
        "神经网络被实现为一个类。 以下设计\n",
        "\n",
        "$$\n",
        "{\\ bf x} (4D) \\to {\\ bf h}_1 (10D) \\to {\\ bf h}_2 (3D).\n",
        "$$\n",
        "\n"
      ],
      "metadata": {
        "id": "9Wxxr0yVIU1Z"
      }
    },
    {
      "cell_type": "code",
      "source": [
        "H=10\n",
        "model = tf.keras.models.Sequential([\n",
        "  tf.keras.layers.Dense(H, input_shape=(4,), activation='relu'),\n",
        "  tf.keras.layers.Dense(3, activation='softmax')\n",
        "])"
      ],
      "metadata": {
        "id": "wFEPsSD5IUe3"
      },
      "execution_count": 17,
      "outputs": []
    },
    {
      "cell_type": "markdown",
      "source": [
        "这里，`activation ='softmax'` 指定了所谓的 softmax 函数\n",
        "\n",
        "$$\n",
        "\\text{softmax}({\\bf u}) = \\frac{1}{\\sum_{i} e^{u^i}} (e^{u^1}, e^{u^2}, \\dots, e^{u^{dim}}).\n",
        "$$\n",
        " 此外，`activation ='relu'` 是\n",
        "$$\n",
        "\\text{relu}({\\bf u}) = (\\max\\{0, u^1\\}, \\max\\{0, u^2\\}, \\dots, \\max\\{0, u^{dim}.\\})\n",
        "$$\n"
      ],
      "metadata": {
        "id": "lPnphqzVJSIS"
      }
    },
    {
      "cell_type": "markdown",
      "source": [
        "#### 学习设置\n",
        "设置目标函数以及如何使其更小"
      ],
      "metadata": {
        "id": "VZtfG5JOLXqx"
      }
    },
    {
      "cell_type": "code",
      "source": [
        "model.compile(optimizer='adam', loss='sparse_categorical_crossentropy')"
      ],
      "metadata": {
        "id": "tuKR6SUXIUZ4"
      },
      "execution_count": 18,
      "outputs": []
    },
    {
      "cell_type": "markdown",
      "source": [
        "`optimizer ='adam'` 显示所使用的优化方法，`loss ='sparse_categorical_crossentropy'` 将一个被称为交叉熵的函数作为经验误差。 这里，分类数是3，所以如${\\bf y}_{model} \\in [0,1]^3, y \\in \\{0,1,2\\}$\n",
        "$$\n",
        "cross\\_entropy({\\bf y}_{model}, y) = - \\log ({\\bf y}_{model})^{y\\text{-th component}}\n",
        "$$\n",
        "\n",
        "> 这里有排除sparse的`loss ='categorical_crossentropy'`。其与当监督信号是像${\\bf y} = (0,1,0)$的正确答案时是1，此外的值时是0的向量形式时所使用的值是基本相同的。"
      ],
      "metadata": {
        "id": "ZrE_beALLyh_"
      }
    },
    {
      "cell_type": "markdown",
      "source": [
        "#### 学习执行\n",
        "在 Tensorflow 的情况下，它可以使用 `model.fit (X, Y)` 进行训练。 如果要进行更详细的设置，后面会介绍。"
      ],
      "metadata": {
        "id": "6m8kv8DePnRl"
      }
    },
    {
      "cell_type": "code",
      "source": [
        "Hist= model.fit(X_train, Y_train, epochs=100, batch_size=10, verbose=0)\n",
        "# 学习曲线的plot\n",
        "plt.xlabel(\"epoch\"); plt.ylabel(\"NLL\")\n",
        "plt.plot(np.arange(100), Hist.history['loss']);plt.show()"
      ],
      "metadata": {
        "colab": {
          "base_uri": "https://localhost:8080/",
          "height": 279
        },
        "id": "OJBLbCM5P_FF",
        "outputId": "284211e2-c630-461c-f947-13a42a332d5b"
      },
      "execution_count": 19,
      "outputs": [
        {
          "output_type": "display_data",
          "data": {
            "text/plain": [
              "<Figure size 432x288 with 1 Axes>"
            ],
            "image/png": "[encoded data removed]"
          },
          "metadata": {
            "needs_background": "light"
          }
        }
      ]
    },
    {
      "cell_type": "markdown",
      "source": [
        "#### 利用新数据测试 "
      ],
      "metadata": {
        "id": "3ddvIcL9QZrK"
      }
    },
    {
      "cell_type": "code",
      "source": [
        "X_test, Y_test = iris.data[1::2], iris.target[1::2]"
      ],
      "metadata": {
        "id": "LTew6tdhQ4rN"
      },
      "execution_count": 21,
      "outputs": []
    },
    {
      "cell_type": "code",
      "source": [
        "i = np.random.randint(len(Y_test))\n",
        "x, y = X_test[i:i+1], Y_test[i:i+1]\n",
        "y_pred = model.predict(x)\n",
        "print('answer:', y, 'prediction:', np.argmax(y_pred))\n",
        "plt.bar(np.arange(3), y_pred[0]); plt.show()"
      ],
      "metadata": {
        "colab": {
          "base_uri": "https://localhost:8080/",
          "height": 282
        },
        "id": "zXTk5SpPQNYk",
        "outputId": "955be03a-d3b1-42e5-8abe-a840b7aa09d4"
      },
      "execution_count": 22,
      "outputs": [
        {
          "output_type": "stream",
          "name": "stdout",
          "text": [
            "answer: [2] prediction: 2\n"
          ]
        },
        {
          "output_type": "display_data",
          "data": {
            "text/plain": [
              "<Figure size 432x288 with 1 Axes>"
            ],
            "image/png": "[encoded data removed]"
          },
          "metadata": {
            "needs_background": "light"
          }
        }
      ]
    },
    {
      "cell_type": "markdown",
      "source": [
        "可以看到它们被正确分类。"
      ],
      "metadata": {
        "id": "NvPSGBEMQl6l"
      }
    }
  ]
}