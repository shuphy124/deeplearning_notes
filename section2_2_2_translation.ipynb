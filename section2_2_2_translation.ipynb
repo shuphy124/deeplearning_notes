{
  "nbformat": 4,
  "nbformat_minor": 0,
  "metadata": {
    "colab": {
      "name": "section2/2-2-translation.ipynb",
      "provenance": [],
      "collapsed_sections": [],
      "authorship_tag": "ABX9TyPgRTFoG3tSY9TQXV1BGy11",
      "include_colab_link": true
    },
    "kernelspec": {
      "name": "python3",
      "display_name": "Python 3"
    },
    "language_info": {
      "name": "python"
    }
  },
  "cells": [
    {
      "cell_type": "markdown",
      "metadata": {
        "id": "view-in-github",
        "colab_type": "text"
      },
      "source": [
        "<a href=\"https://colab.research.google.com/github/shuphy124/deeplearning_notes/blob/master/section2_2_2_translation.ipynb\" target=\"_parent\"><img src=\"https://colab.research.google.com/assets/colab-badge.svg\" alt=\"Open In Colab\"/></a>"
      ]
    },
    {
      "cell_type": "code",
      "execution_count": 1,
      "metadata": {
        "id": "8RYwgqM6licG"
      },
      "outputs": [],
      "source": [
        "import numpy as np\n",
        "import matplotlib.pyplot as plt\n",
        "from matplotlib import cm\n",
        "\n",
        "class gaussian():\n",
        "    def __init__(self, mu, sigma, name=''):\n",
        "        self.mu = mu\n",
        "        self.sigma = sigma\n",
        "        self.name = name + r\"$\\mu={}, \\sigma={}$\".format(mu, sigma)\n",
        "    def __call__(self, x):\n",
        "        return np.exp(-(x-self.mu)**2/(2*self.sigma**2))/np.sqrt(2*np.pi*self.sigma**2)\n",
        "\n",
        "def KL_gauss(p, q):\n",
        "    r = p.sigma**2/q.sigma**2\n",
        "    return (-np.log(r) + (r-1) + (p.mu-q.mu)**2/q.sigma**2)/2\n",
        "\n",
        "def plot_for(q, color):\n",
        "    ax1.plot(x, q(x), alpha=0.9, color=color, label=q.name)\n",
        "    ax2.scatter(q.sigma, KL_gauss(p, q), alpha=0.9, color=color, label=q.name)\n",
        "    return None\n",
        "\n",
        "def get_objects():    \n",
        "    fig = plt.figure(figsize=(13,4))\n",
        "    ax1 = fig.add_subplot(121); ax1.set_xlabel(\"x\"); ax1.set_title(\"probability\")\n",
        "    ax2 = fig.add_subplot(122); ax2.set_xlabel(r\"$\\sigma$\"); ax2.set_title(r\"$D_{KL}(p||q)$\")\n",
        "    x = np.linspace(-4,6,100)\n",
        "    cmap = cm.coolwarm\n",
        "    return fig, ax1, ax2, x, cmap "
      ]
    },
    {
      "cell_type": "markdown",
      "source": [
        "## 2-2. KL信息量\n",
        "由于KL信息量\n",
        "$$\n",
        "𝐷_{𝐾𝐿}(𝑝\\|𝑞)=\\int 𝑝({\\bf x})\\log \\frac{𝑝({\\bf x})}{𝑞({\\bf x})}𝑑{\\bf x}\n",
        "$$\n",
        "是重要的量、让我们更深入地了解它的性质。"
      ],
      "metadata": {
        "id": "nZTJ3DVcpGSc"
      }
    },
    {
      "cell_type": "markdown",
      "source": [
        "### KL信息量的性质\n",
        "任何概率分布 $ p, q $ 的“**距离**”的性质\n",
        "\n",
        "$$\n",
        "1.\\ D_{KL}(p\\|q)\\geq 0,\\quad 2.\\ D_{KL}(p\\|q)=0\\Leftrightarrow \\forall{\\bf x},p({\\bf x ) }) = q ({\\ bf x})\n",
        "$$\n",
        "\n",
        "总是成立。\n",
        "> 除了这两个性质，数学距离定理所要求的对称性$3。D(p\\|q)=D(q\\|p)$，不满足。\n",
        "\n",
        "稍微有点不那么严格，但让我们做一个简单的证明。 首先，"
      ],
      "metadata": {
        "id": "xL_rwpGNpZcZ"
      }
    },
    {
      "cell_type": "code",
      "source": [
        "\n"
      ],
      "metadata": {
        "colab": {
          "base_uri": "https://localhost:8080/",
          "height": 130
        },
        "id": "NUqLpqpjmffo",
        "outputId": "ec9dad25-f616-4f67-fd77-a09bf771c595"
      },
      "execution_count": 2,
      "outputs": [
        {
          "output_type": "error",
          "ename": "SyntaxError",
          "evalue": "ignored",
          "traceback": [
            "\u001b[0;36m  File \u001b[0;32m\"<ipython-input-2-8db44f3ebf9d>\"\u001b[0;36m, line \u001b[0;32m3\u001b[0m\n\u001b[0;31m    $$\u001b[0m\n\u001b[0m    ^\u001b[0m\n\u001b[0;31mSyntaxError\u001b[0m\u001b[0;31m:\u001b[0m invalid syntax\n"
          ]
        }
      ]
    }
  ]
}